{
 "cells": [
  {
   "cell_type": "code",
   "execution_count": 1,
   "metadata": {
    "collapsed": true
   },
   "outputs": [],
   "source": [
    "%matplotlib inline\n",
    "\n",
    "import gym\n",
    "import matplotlib\n",
    "import numpy as np\n",
    "import sys\n",
    "\n",
    "from collections import defaultdict\n",
    "if \"../\" not in sys.path:\n",
    "  sys.path.append(\"../\") \n",
    "from lib.envs.blackjack import BlackjackEnv\n",
    "from lib import plotting\n",
    "\n",
    "matplotlib.style.use('ggplot')"
   ]
  },
  {
   "cell_type": "code",
   "execution_count": 2,
   "metadata": {
    "collapsed": false
   },
   "outputs": [],
   "source": [
    "env = BlackjackEnv()"
   ]
  },
  {
   "cell_type": "code",
   "execution_count": 3,
   "metadata": {
    "collapsed": true
   },
   "outputs": [],
   "source": [
    "def create_random_policy(nA):\n",
    "    \"\"\"\n",
    "    Creates a random policy function.\n",
    "    \n",
    "    Args:\n",
    "        nA: Number of actions in the environment.\n",
    "    \n",
    "    Returns:\n",
    "        A function that takes an observation as input and returns a vector\n",
    "        of action probabilities\n",
    "    \"\"\"\n",
    "    A = np.ones(nA, dtype=float) / nA\n",
    "    def policy_fn(observation):\n",
    "        return A\n",
    "    return policy_fn"
   ]
  },
  {
   "cell_type": "code",
   "execution_count": 4,
   "metadata": {
    "collapsed": false
   },
   "outputs": [],
   "source": [
    "def create_greedy_policy(Q):\n",
    "    \"\"\"\n",
    "    Creates a greedy policy based on Q values.\n",
    "    \n",
    "    Args:\n",
    "        Q: A dictionary that maps from state -> action values\n",
    "        \n",
    "    Returns:\n",
    "        A function that takes an observation as input and returns a vector\n",
    "        of action probabilities.\n",
    "    \"\"\"\n",
    "    \n",
    "    def policy_fn(observation):\n",
    "        A = np.zeros( len(Q[observation]), dtype=float)\n",
    "        best_action = np.argmax(Q[observation])\n",
    "        A[best_action] = 1.0\n",
    "\n",
    "    return policy_fn"
   ]
  },
  {
   "cell_type": "code",
   "execution_count": 78,
   "metadata": {
    "collapsed": false
   },
   "outputs": [],
   "source": [
    "def mc_control_importance_sampling(env, num_episodes, behavior_policy, discount_factor=1.0):\n",
    "    \"\"\"\n",
    "    Monte Carlo Control Off-Policy Control using Weighted Importance Sampling.\n",
    "    Finds an optimal greedy policy.\n",
    "    \n",
    "    Args:\n",
    "        env: OpenAI gym environment.\n",
    "        num_episodes: Nubmer of episodes to sample.\n",
    "        behavior_policy: The behavior to follow while generating episodes.\n",
    "            A function that given an observation returns a vector of probabilities for each action.\n",
    "        discount_factor: Lambda discount factor.\n",
    "    \n",
    "    Returns:\n",
    "        A tuple (Q, policy).\n",
    "        Q is a dictionary mapping state -> action values.\n",
    "        policy is a function that takes an observation as an argument and returns\n",
    "        action probabilities. This is the optimal greedy policy.\n",
    "        \n",
    "        Off-policy every-visit MC control (returns π ≈ π∗)\n",
    "Initialize, for all s ∈ S, a ∈ A(s):\n",
    "Q(s, a) ← arbitrary\n",
    "C(s,a) ← 0\n",
    "π(s) ← a deterministic policy that is greedy with respect to Q\n",
    "Repeat forever:\n",
    "Generate an episode using any soft policy μ:\n",
    "S0,A0,R1,...,ST−1,AT−1,RT ,ST G←0\n",
    "W←1\n",
    "Fort=T−1,T−2,... downto0:\n",
    "G ← γG + Rt+1\n",
    "C(St, At) ← C(St, At) + W\n",
    "￼Q(St, At) ← Q(St, At) + W/C(St,At) [G − Q(St, At)]\n",
    "π(St) ← argmaxa Q(St,a) (with ties broken consistently)\n",
    "￼If At ̸= π(St)\n",
    "\n",
    "W←W 1/μ(At |St )\n",
    "    \"\"\"\n",
    "    \n",
    "    # The final action-value function.\n",
    "    # A dictionary that maps state -> action values\n",
    "    Q = defaultdict(lambda: np.zeros(env.action_space.n))\n",
    "    C = defaultdict(lambda: np.zeros(env.action_space.n))\n",
    "\n",
    "    # Our greedily policy we want to learn\n",
    "    target_policy = create_greedy_policy(Q)\n",
    "    actions = np.array(xrange(env.action_space.n))\n",
    "\n",
    "    for ep in range(num_episodes):\n",
    "        observation = env.reset()\n",
    "        episode = []\n",
    "        done = False\n",
    "        if num_episodes <= 5:\n",
    "            print \"starting episode %d\" % ep\n",
    "            \n",
    "        while not done:\n",
    "            action_dist = behavior_policy(observation)\n",
    "            action = np.random.choice(actions, p=action_dist)\n",
    "            next_obs, reward, done, _ = env.step(action)\n",
    "            episode.append( (observation, action, reward) )\n",
    "            observation = next_obs\n",
    "            \n",
    "        if num_episodes <= 5:\n",
    "            print \"length: %d\" % len(episode)\n",
    "        G = 0.0\n",
    "        W = 1.0\n",
    "        for t in range( len(episode)-1, -1, -1 ):\n",
    "            observation, action, reward = episode[t]\n",
    "            if num_episodes <= 5:\n",
    "                print \"%d %f\" % (action, reward)\n",
    "            G = (discount_factor * G) + reward\n",
    "            C[observation][action] += W\n",
    "            Q[observation][action] += (W / C[observation][action]) * (G - Q[observation][action])\n",
    "            if action != np.argmax(target_policy(observation)):\n",
    "                break\n",
    "            W = W / behavior_policy(observation)[action]\n",
    "        \n",
    "    return Q, target_policy"
   ]
  },
  {
   "cell_type": "code",
   "execution_count": null,
   "metadata": {
    "collapsed": false
   },
   "outputs": [],
   "source": [
    "random_policy = create_random_policy(env.action_space.n)\n",
    "Q, policy = mc_control_importance_sampling(env, num_episodes=5, behavior_policy=random_policy)"
   ]
  },
  {
   "cell_type": "code",
   "execution_count": 80,
   "metadata": {
    "collapsed": false
   },
   "outputs": [],
   "source": [
    "random_policy = create_random_policy(env.action_space.n)\n",
    "Q, policy = mc_control_importance_sampling(env, num_episodes=500000, behavior_policy=random_policy)"
   ]
  },
  {
   "cell_type": "code",
   "execution_count": null,
   "metadata": {
    "collapsed": false
   },
   "outputs": [],
   "source": [
    "# For plotting: Create value function from action-value function\n",
    "# by picking the best action at each state\n",
    "V = defaultdict(float)\n",
    "for state, action_values in Q.items():\n",
    "    action_value = np.max(action_values)\n",
    "    V[state] = action_value\n",
    "plotting.plot_value_function(V, title=\"Optimal Value Function\")"
   ]
  },
  {
   "cell_type": "code",
   "execution_count": null,
   "metadata": {
    "collapsed": true
   },
   "outputs": [],
   "source": []
  }
 ],
 "metadata": {
  "kernelspec": {
   "display_name": "Python 2",
   "language": "python",
   "name": "python2"
  },
  "language_info": {
   "codemirror_mode": {
    "name": "ipython",
    "version": 2
   },
   "file_extension": ".py",
   "mimetype": "text/x-python",
   "name": "python",
   "nbconvert_exporter": "python",
   "pygments_lexer": "ipython2",
   "version": "2.7.5"
  }
 },
 "nbformat": 4,
 "nbformat_minor": 0
}
