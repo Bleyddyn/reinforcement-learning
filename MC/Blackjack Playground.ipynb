{
 "cells": [
  {
   "cell_type": "code",
   "execution_count": 1,
   "metadata": {
    "collapsed": true
   },
   "outputs": [],
   "source": [
    "import numpy as np\n",
    "import sys\n",
    "if \"../\" not in sys.path:\n",
    "  sys.path.append(\"../\") \n",
    "from lib.envs.blackjack import BlackjackEnv"
   ]
  },
  {
   "cell_type": "code",
   "execution_count": 2,
   "metadata": {
    "collapsed": false
   },
   "outputs": [],
   "source": [
    "env = BlackjackEnv()"
   ]
  },
  {
   "cell_type": "code",
   "execution_count": 4,
   "metadata": {
    "collapsed": false
   },
   "outputs": [
    {
     "name": "stdout",
     "output_type": "stream",
     "text": [
      "Player Score: 17 (Usable Ace: False), Dealer Score: 10\n",
      "Taking action: Hit\n",
      "Player Score: 27 (Usable Ace: False), Dealer Score: 10\n",
      "Game end. Reward: -1.0\n",
      "\n",
      "Player Score: 20 (Usable Ace: False), Dealer Score: 10\n",
      "Taking action: Stick\n",
      "Player Score: 20 (Usable Ace: False), Dealer Score: 10\n",
      "Game end. Reward: -1.0\n",
      "\n",
      "Player Score: 16 (Usable Ace: False), Dealer Score: 10\n",
      "Taking action: Hit\n",
      "Player Score: 22 (Usable Ace: False), Dealer Score: 10\n",
      "Game end. Reward: -1.0\n",
      "\n",
      "Player Score: 20 (Usable Ace: False), Dealer Score: 1\n",
      "Taking action: Stick\n",
      "Player Score: 20 (Usable Ace: False), Dealer Score: 1\n",
      "Game end. Reward: 0.0\n",
      "\n",
      "Player Score: 21 (Usable Ace: True), Dealer Score: 5\n",
      "Taking action: Stick\n",
      "Player Score: 21 (Usable Ace: True), Dealer Score: 5\n",
      "Game end. Reward: 1.0\n",
      "\n"
     ]
    }
   ],
   "source": [
    "def print_observation(observation):\n",
    "    score, dealer_score, usable_ace = observation\n",
    "    print(\"Player Score: {} (Usable Ace: {}), Dealer Score: {}\".format(\n",
    "          score, usable_ace, dealer_score))\n",
    "\n",
    "def strategy(observation):\n",
    "    score, dealer_score, usable_ace = observation\n",
    "    # Stick (action 0) if the score is > 20, hit (action 1) otherwise\n",
    "    return 0 if score >= 20 else 1\n",
    "\n",
    "for i_episode in range(5):\n",
    "    observation = env.reset()\n",
    "    for t in range(100):\n",
    "        print_observation(observation)\n",
    "        action = strategy(observation)\n",
    "        print(\"Taking action: {}\".format( [\"Stick\", \"Hit\"][action]))\n",
    "        observation, reward, done, _ = env.step(action)\n",
    "        if done:\n",
    "            print_observation(observation)\n",
    "            print(\"Game end. Reward: {}\\n\".format(float(reward)))\n",
    "            break"
   ]
  },
  {
   "cell_type": "code",
   "execution_count": 17,
   "metadata": {
    "collapsed": false
   },
   "outputs": [
    {
     "name": "stdout",
     "output_type": "stream",
     "text": [
      "Discrete(2)\n",
      "2\n",
      "[0 1]\n",
      "Tuple(Discrete(32), Discrete(11), Discrete(2))\n"
     ]
    }
   ],
   "source": [
    "print env.action_space\n",
    "print env.action_space.n\n",
    "print np.array(xrange(env.action_space.n))\n",
    "print env.observation_space"
   ]
  },
  {
   "cell_type": "code",
   "execution_count": null,
   "metadata": {
    "collapsed": true
   },
   "outputs": [],
   "source": []
  }
 ],
 "metadata": {
  "kernelspec": {
   "display_name": "Python 2",
   "language": "python",
   "name": "python2"
  },
  "language_info": {
   "codemirror_mode": {
    "name": "ipython",
    "version": 2
   },
   "file_extension": ".py",
   "mimetype": "text/x-python",
   "name": "python",
   "nbconvert_exporter": "python",
   "pygments_lexer": "ipython2",
   "version": "2.7.5"
  }
 },
 "nbformat": 4,
 "nbformat_minor": 0
}
